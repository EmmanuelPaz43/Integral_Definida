{
  "nbformat": 4,
  "nbformat_minor": 0,
  "metadata": {
    "colab": {
      "name": "IntegralDefinida.ipynb",
      "provenance": [],
      "authorship_tag": "ABX9TyO82ve9UYWlwSkAJ+9lyJzC",
      "include_colab_link": true
    },
    "kernelspec": {
      "name": "python3",
      "display_name": "Python 3"
    },
    "language_info": {
      "name": "python"
    }
  },
  "cells": [
    {
      "cell_type": "markdown",
      "metadata": {
        "id": "view-in-github",
        "colab_type": "text"
      },
      "source": [
        "<a href=\"https://colab.research.google.com/github/EmmanuelPaz43/Integral_Definida/blob/main/IntegralDefinida.ipynb\" target=\"_parent\"><img src=\"https://colab.research.google.com/assets/colab-badge.svg\" alt=\"Open In Colab\"/></a>"
      ]
    },
    {
      "cell_type": "code",
      "metadata": {
        "colab": {
          "base_uri": "https://localhost:8080/"
        },
        "id": "cOMJZawgghu3",
        "outputId": "f76d8244-400d-45cc-e44a-4a7192b5b51b"
      },
      "source": [
        "# Programa que calcula la integral numérica de una función.\n",
        "# Autor: Emmanuel Paz Córdova\n",
        "# Fecha: Septiembre 8, 2021\n",
        "\n",
        "import matplotlib.pyplot as plt\n",
        "import numpy as np\n",
        "import math\n",
        "\n",
        "def function(x):\n",
        "  return 2*x**3+x**6 # f(x)=2x^3+x^6\n",
        "\n",
        "def integral(n, liminf, limsup):\n",
        "  xi, weights=np.polynomial.legendre.leggauss(n)  \n",
        "  numericalintegral=0\n",
        "  for i in range (0,n):\n",
        "    numericalintegral += weights[i]*function((limsup-liminf)/2*xi[i]+(limsup+liminf)/2)\n",
        "  return ((limsup-liminf)/2)*numericalintegral\n",
        "\n",
        "print(\"La función a integrar es: 2x\") \n",
        "print(\"¿Desde que punto quieres calcular la integral?\") \n",
        "puntoinicial=float(input(\"\"))\n",
        "print(\"¿Hasta que punto quieres calcular la integral?\")\n",
        "puntofinal=float(input(\"\"))\n",
        "print(\"¿Cuál es el grado del polinomio con el que quieres trabajar?\")\n",
        "grado=int(input(\"\"))\n",
        "\n",
        "print(\"El valor numérico de tu integral es: \", integral(grado, puntoinicial, puntofinal))"
      ],
      "execution_count": 2,
      "outputs": [
        {
          "output_type": "stream",
          "name": "stdout",
          "text": [
            "La función a integrar es: 2x\n",
            "¿Desde que punto quieres calcular la integral?\n",
            "0\n",
            "¿Hasta que punto quieres calcular la integral?\n",
            "1\n",
            "¿Cuál es el grado del polinomio con el que quieres trabajar?\n",
            "6\n",
            "El valor numérico de tu integral es:  0.6428571428571425\n"
          ]
        }
      ]
    }
  ]
}